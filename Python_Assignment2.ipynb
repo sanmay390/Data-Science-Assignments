{
 "cells": [
  {
   "cell_type": "code",
   "execution_count": 1,
   "id": "f7d87434",
   "metadata": {},
   "outputs": [],
   "source": [
    "#Q1) Write a python Class Circle which has the following variables and functions.\n",
    "\n",
    "#Variables:\n",
    "#pi_value = 3.14 (private variable)\n",
    "#radius \n",
    "\n",
    "#functions:\n",
    "#area_calculator\n",
    "#circumference_calculator\n",
    "\n",
    "\n",
    "#Create an object of Class circle and calculate its area and circumference.\n"
   ]
  },
  {
   "cell_type": "code",
   "execution_count": 2,
   "id": "410eb205",
   "metadata": {},
   "outputs": [
    {
     "name": "stdout",
     "output_type": "stream",
     "text": [
      "Enter the radius\n"
     ]
    },
    {
     "name": "stdin",
     "output_type": "stream",
     "text": [
      " 4\n"
     ]
    },
    {
     "name": "stdout",
     "output_type": "stream",
     "text": [
      "Area of circle:  50.24\n",
      "Circumference of circle:  25.12\n"
     ]
    }
   ],
   "source": [
    "class Circle:\n",
    "    pi_value = 3.14\n",
    "    \n",
    "    def __init__(self,radius):\n",
    "        self.r=radius\n",
    "        \n",
    "    def area_calculator(self):\n",
    "        return self.pi_value*pow(self.r,2)\n",
    "        \n",
    "    def circumference_calculator(self):\n",
    "        return 2*self.pi_value*self.r\n",
    "\n",
    "print('Enter the radius')\n",
    "c=Circle(int(input()))\n",
    "print('Area of circle: ',c.area_calculator())\n",
    "print('Circumference of circle: ',c.circumference_calculator())"
   ]
  },
  {
   "cell_type": "code",
   "execution_count": 3,
   "id": "467ad183",
   "metadata": {},
   "outputs": [],
   "source": [
    "#Q2) Write a function which returns the addition of all numbers in numpy array.\n",
    "# Numpy array should contain 50 random numbers in the range of 10 to 100 generated using random number generator.\n"
   ]
  },
  {
   "cell_type": "code",
   "execution_count": 4,
   "id": "c6f71146",
   "metadata": {},
   "outputs": [
    {
     "name": "stdout",
     "output_type": "stream",
     "text": [
      "Input Array:\n",
      " [98 37 51 49 19 82 21 54 71 30 21 53 88 90 13 43 94 47 40 33 24 53 43 54\n",
      " 16 20 34 96 27 37 93 72 22 63 85 38 98 43 21 78 86 19 92 93 19 14 82 48\n",
      " 41 63]\n",
      "\n",
      "Addition:  2608\n"
     ]
    }
   ],
   "source": [
    "import numpy as np\n",
    "def addition():\n",
    "    inpt_nums = np.random.randint(10,100,size=(50))\n",
    "    print('Input Array:\\n',inpt_nums)\n",
    "    sum=0\n",
    "    for i in inpt_nums:\n",
    "        sum+=i\n",
    "    print('\\nAddition: ',sum)\n",
    "\n",
    "addition()"
   ]
  },
  {
   "cell_type": "code",
   "execution_count": 5,
   "id": "3641474a",
   "metadata": {},
   "outputs": [],
   "source": [
    "# Q3) i) Create a 3 * 2 ( 3 rows , 2 columns ) matrix using numpy and transpose it.\n",
    "#ii) After transposing print the first row of matrix ( index 0)\n",
    "#iii) Print second element in first row\n",
    "#iv) Flatten the matrix to 1D ( 1 Dimensional ) array\n",
    "#v) Print maximum, minimum and average value of 1D array\n"
   ]
  },
  {
   "cell_type": "code",
   "execution_count": 6,
   "id": "551440cd",
   "metadata": {},
   "outputs": [
    {
     "name": "stdout",
     "output_type": "stream",
     "text": [
      "Input matrix:\n",
      " [[1 2]\n",
      " [3 4]\n",
      " [5 6]]\n",
      "\n",
      "Transpose of input matrix:\n",
      " [[1 3 5]\n",
      " [2 4 6]]\n"
     ]
    }
   ],
   "source": [
    "mat1 = np.array([[1,2],[3,4],[5,6]])\n",
    "print('Input matrix:\\n',mat1)\n",
    "t_mat1 = np.transpose(mat1)\n",
    "print('\\nTranspose of input matrix:\\n',t_mat1)"
   ]
  },
  {
   "cell_type": "code",
   "execution_count": 7,
   "id": "d9f055cd",
   "metadata": {},
   "outputs": [
    {
     "name": "stdout",
     "output_type": "stream",
     "text": [
      "first row of matrix:  [1 3 5]\n"
     ]
    }
   ],
   "source": [
    "print('first row of matrix: ',t_mat1[0])"
   ]
  },
  {
   "cell_type": "code",
   "execution_count": 8,
   "id": "0a5df56c-e32d-465e-825c-3961f3eaef95",
   "metadata": {},
   "outputs": [
    {
     "name": "stdout",
     "output_type": "stream",
     "text": [
      "second element in first row:  3\n"
     ]
    }
   ],
   "source": [
    "print('second element in first row: ',t_mat1[0][1])"
   ]
  },
  {
   "cell_type": "code",
   "execution_count": 9,
   "id": "eb432416-64e2-4453-8521-50e889eed2d1",
   "metadata": {},
   "outputs": [
    {
     "name": "stdout",
     "output_type": "stream",
     "text": [
      "Flatten the matrix to 1D:  [1 3 5 2 4 6]\n"
     ]
    }
   ],
   "source": [
    "f_mat1 = t_mat1.reshape(-1)\n",
    "print('Flatten the matrix to 1D: ',f_mat1)"
   ]
  },
  {
   "cell_type": "code",
   "execution_count": 10,
   "id": "a0067438-126c-4b08-966e-4b1d3b04c60a",
   "metadata": {},
   "outputs": [
    {
     "name": "stdout",
     "output_type": "stream",
     "text": [
      "maximum 6, minimum 1 and average 3.5 value of 1D array\n"
     ]
    }
   ],
   "source": [
    "print('maximum {max}, minimum {min} and average {avg} value of 1D array'.format(max=np.max(f_mat1),min=np.min(f_mat1),avg=np.average(f_mat1)))"
   ]
  },
  {
   "cell_type": "code",
   "execution_count": 11,
   "id": "8a43936a",
   "metadata": {},
   "outputs": [],
   "source": [
    "#Q4) \tRead the Housing.csv file in your notebook and perform the following operations.\n",
    "#i)\tCalculate average and median price per square foot area (assume area column’s unit is sq ft )\n",
    "#ii)\tCalculate median price per bedroom. \n",
    "#iii)\tCalculate average price per sq ft for furnished, semi-furnished and unfurnished homes.\n",
    "#iv)\tAre homes with guestrooms AND main road location costlier than remaining houses? Analyze the data using pandas to come up with your answer.\n",
    "#v)\t Convert the values in air conditioning columns to 0 and 1 using lambda function\n",
    "#vi)\tCreate a new column with the name price_index. Assign it 1 if the price of house is higher than average price else assign it value 0\n",
    "#vii)\tSort the data by area, bathrooms and bedrooms column in descending order\n"
   ]
  },
  {
   "cell_type": "code",
   "execution_count": 12,
   "id": "e38e9c20",
   "metadata": {},
   "outputs": [],
   "source": [
    "import pandas as pd\n",
    "df = pd.read_csv('Housing.csv')"
   ]
  },
  {
   "cell_type": "code",
   "execution_count": 13,
   "id": "c22151c2",
   "metadata": {},
   "outputs": [
    {
     "data": {
      "text/html": [
       "<div>\n",
       "<style scoped>\n",
       "    .dataframe tbody tr th:only-of-type {\n",
       "        vertical-align: middle;\n",
       "    }\n",
       "\n",
       "    .dataframe tbody tr th {\n",
       "        vertical-align: top;\n",
       "    }\n",
       "\n",
       "    .dataframe thead th {\n",
       "        text-align: right;\n",
       "    }\n",
       "</style>\n",
       "<table border=\"1\" class=\"dataframe\">\n",
       "  <thead>\n",
       "    <tr style=\"text-align: right;\">\n",
       "      <th></th>\n",
       "      <th>price</th>\n",
       "      <th>area</th>\n",
       "      <th>bedrooms</th>\n",
       "      <th>bathrooms</th>\n",
       "      <th>stories</th>\n",
       "      <th>mainroad</th>\n",
       "      <th>guestroom</th>\n",
       "      <th>basement</th>\n",
       "      <th>hotwaterheating</th>\n",
       "      <th>airconditioning</th>\n",
       "      <th>parking</th>\n",
       "      <th>prefarea</th>\n",
       "      <th>furnishingstatus</th>\n",
       "    </tr>\n",
       "  </thead>\n",
       "  <tbody>\n",
       "    <tr>\n",
       "      <th>0</th>\n",
       "      <td>13300000</td>\n",
       "      <td>7420</td>\n",
       "      <td>4</td>\n",
       "      <td>2</td>\n",
       "      <td>3</td>\n",
       "      <td>yes</td>\n",
       "      <td>no</td>\n",
       "      <td>no</td>\n",
       "      <td>no</td>\n",
       "      <td>yes</td>\n",
       "      <td>2</td>\n",
       "      <td>yes</td>\n",
       "      <td>furnished</td>\n",
       "    </tr>\n",
       "    <tr>\n",
       "      <th>1</th>\n",
       "      <td>12250000</td>\n",
       "      <td>8960</td>\n",
       "      <td>4</td>\n",
       "      <td>4</td>\n",
       "      <td>4</td>\n",
       "      <td>yes</td>\n",
       "      <td>no</td>\n",
       "      <td>no</td>\n",
       "      <td>no</td>\n",
       "      <td>yes</td>\n",
       "      <td>3</td>\n",
       "      <td>no</td>\n",
       "      <td>furnished</td>\n",
       "    </tr>\n",
       "  </tbody>\n",
       "</table>\n",
       "</div>"
      ],
      "text/plain": [
       "      price  area  bedrooms  bathrooms  stories mainroad guestroom basement  \\\n",
       "0  13300000  7420         4          2        3      yes        no       no   \n",
       "1  12250000  8960         4          4        4      yes        no       no   \n",
       "\n",
       "  hotwaterheating airconditioning  parking prefarea furnishingstatus  \n",
       "0              no             yes        2      yes        furnished  \n",
       "1              no             yes        3       no        furnished  "
      ]
     },
     "execution_count": 13,
     "metadata": {},
     "output_type": "execute_result"
    }
   ],
   "source": [
    "df.head(2)"
   ]
  },
  {
   "cell_type": "code",
   "execution_count": 14,
   "id": "2cec5b50-3a8a-4bbf-9b49-11587da4712c",
   "metadata": {},
   "outputs": [
    {
     "name": "stdout",
     "output_type": "stream",
     "text": [
      "<class 'pandas.core.frame.DataFrame'>\n",
      "RangeIndex: 545 entries, 0 to 544\n",
      "Data columns (total 13 columns):\n",
      " #   Column            Non-Null Count  Dtype \n",
      "---  ------            --------------  ----- \n",
      " 0   price             545 non-null    int64 \n",
      " 1   area              545 non-null    int64 \n",
      " 2   bedrooms          545 non-null    int64 \n",
      " 3   bathrooms         545 non-null    int64 \n",
      " 4   stories           545 non-null    int64 \n",
      " 5   mainroad          545 non-null    object\n",
      " 6   guestroom         545 non-null    object\n",
      " 7   basement          545 non-null    object\n",
      " 8   hotwaterheating   545 non-null    object\n",
      " 9   airconditioning   545 non-null    object\n",
      " 10  parking           545 non-null    int64 \n",
      " 11  prefarea          545 non-null    object\n",
      " 12  furnishingstatus  545 non-null    object\n",
      "dtypes: int64(6), object(7)\n",
      "memory usage: 55.5+ KB\n"
     ]
    }
   ],
   "source": [
    "df.info()"
   ]
  },
  {
   "cell_type": "code",
   "execution_count": 15,
   "id": "8eec52f8-7b9f-49cb-ae82-24263d76cf3c",
   "metadata": {},
   "outputs": [
    {
     "data": {
      "text/plain": [
       "array([[<Axes: title={'center': 'price'}>,\n",
       "        <Axes: title={'center': 'area'}>],\n",
       "       [<Axes: title={'center': 'bedrooms'}>,\n",
       "        <Axes: title={'center': 'bathrooms'}>],\n",
       "       [<Axes: title={'center': 'stories'}>,\n",
       "        <Axes: title={'center': 'parking'}>]], dtype=object)"
      ]
     },
     "execution_count": 15,
     "metadata": {},
     "output_type": "execute_result"
    },
    {
     "data": {
      "image/png": "[encoded data removed]",
      "text/plain": [
       "<Figure size 1000x1000 with 6 Axes>"
      ]
     },
     "metadata": {},
     "output_type": "display_data"
    }
   ],
   "source": [
    "df.hist(figsize=(10,10))"
   ]
  },
  {
   "cell_type": "code",
   "execution_count": 16,
   "id": "4b0ec5dd",
   "metadata": {},
   "outputs": [
    {
     "data": {
      "text/plain": [
       "area\n",
       "1650      3150000.0\n",
       "1700      1890000.0\n",
       "1836      2275000.0\n",
       "1905      4340000.0\n",
       "1950      2835000.0\n",
       "            ...    \n",
       "12900     4900000.0\n",
       "12944     3500000.0\n",
       "13200     8365000.0\n",
       "15600     5943000.0\n",
       "16200    10150000.0\n",
       "Name: price, Length: 284, dtype: float64"
      ]
     },
     "execution_count": 16,
     "metadata": {},
     "output_type": "execute_result"
    }
   ],
   "source": [
    "df.groupby(by = ['area'])['price'].mean()"
   ]
  },
  {
   "cell_type": "code",
   "execution_count": 17,
   "id": "449b0ec5-05f9-452b-8a6d-e282fd82dcdd",
   "metadata": {},
   "outputs": [
    {
     "data": {
      "text/plain": [
       "area\n",
       "1650      3150000.0\n",
       "1700      1890000.0\n",
       "1836      2275000.0\n",
       "1905      4340000.0\n",
       "1950      2835000.0\n",
       "            ...    \n",
       "12900     4900000.0\n",
       "12944     3500000.0\n",
       "13200     8365000.0\n",
       "15600     5943000.0\n",
       "16200    10150000.0\n",
       "Name: price, Length: 284, dtype: float64"
      ]
     },
     "execution_count": 17,
     "metadata": {},
     "output_type": "execute_result"
    }
   ],
   "source": [
    "df.groupby(by = ['area'])['price'].median()"
   ]
  },
  {
   "cell_type": "code",
   "execution_count": 18,
   "id": "25878d03-79b3-4ac7-b86e-952d11b80900",
   "metadata": {},
   "outputs": [
    {
     "data": {
      "text/plain": [
       "array(['furnished', 'semi-furnished', 'unfurnished'], dtype=object)"
      ]
     },
     "execution_count": 18,
     "metadata": {},
     "output_type": "execute_result"
    }
   ],
   "source": [
    "df['furnishingstatus'].unique()"
   ]
  },
  {
   "cell_type": "code",
   "execution_count": 19,
   "id": "7ac2c615-b3b3-4f1d-a4d4-a3209ee5f367",
   "metadata": {},
   "outputs": [
    {
     "data": {
      "text/plain": [
       "5495696.0"
      ]
     },
     "execution_count": 19,
     "metadata": {},
     "output_type": "execute_result"
    }
   ],
   "source": [
    "(df[df['furnishingstatus']=='furnished'])['price'].mean()"
   ]
  },
  {
   "cell_type": "code",
   "execution_count": 20,
   "id": "4a626fae-d55d-44b4-84d4-1ed6ffed19a9",
   "metadata": {},
   "outputs": [
    {
     "data": {
      "text/plain": [
       "4907524.22907489"
      ]
     },
     "execution_count": 20,
     "metadata": {},
     "output_type": "execute_result"
    }
   ],
   "source": [
    "(df[df['furnishingstatus']=='semi-furnished'])['price'].mean()"
   ]
  },
  {
   "cell_type": "code",
   "execution_count": 21,
   "id": "49b138d9-d638-4349-85f8-4c4f2275fbf6",
   "metadata": {},
   "outputs": [
    {
     "data": {
      "text/plain": [
       "4013831.4606741574"
      ]
     },
     "execution_count": 21,
     "metadata": {},
     "output_type": "execute_result"
    }
   ],
   "source": [
    "(df[df['furnishingstatus']=='unfurnished'])['price'].mean()"
   ]
  },
  {
   "cell_type": "code",
   "execution_count": 22,
   "id": "03961e1b-1817-4a40-b383-6235f2bb1584",
   "metadata": {},
   "outputs": [
    {
     "name": "stdout",
     "output_type": "stream",
     "text": [
      "        price  area  bedrooms  bathrooms  stories mainroad guestroom basement  \\\n",
      "4    11410000  7420         4          1        2      yes       yes      yes   \n",
      "8     9870000  8100         4          1        2      yes       yes      yes   \n",
      "9     9800000  5750         3          2        4      yes       yes       no   \n",
      "11    9681000  6000         4          3        2      yes       yes      yes   \n",
      "16    9100000  6600         4          2        2      yes       yes      yes   \n",
      "..        ...   ...       ...        ...      ...      ...       ...      ...   \n",
      "375   3640000  5960         3          1        2      yes       yes      yes   \n",
      "415   3395000  4785         3          1        2      yes       yes      yes   \n",
      "432   3290000  6060         3          1        1      yes       yes      yes   \n",
      "463   3080000  3090         2          1        1      yes       yes      yes   \n",
      "518   2450000  3500         2          1        1      yes       yes       no   \n",
      "\n",
      "    hotwaterheating airconditioning  parking prefarea furnishingstatus  \n",
      "4                no             yes        2       no        furnished  \n",
      "8                no             yes        2      yes        furnished  \n",
      "9                no             yes        1      yes      unfurnished  \n",
      "11              yes              no        2       no   semi-furnished  \n",
      "16               no             yes        1      yes      unfurnished  \n",
      "..              ...             ...      ...      ...              ...  \n",
      "375              no              no        0       no      unfurnished  \n",
      "415              no             yes        1       no        furnished  \n",
      "432              no              no        0       no        furnished  \n",
      "463              no              no        0       no      unfurnished  \n",
      "518              no              no        0       no      unfurnished  \n",
      "\n",
      "[90 rows x 13 columns]\n",
      "5600000.0\n"
     ]
    }
   ],
   "source": [
    "df_1 = df[(df['mainroad']=='yes')  &  (df['guestroom']=='yes')]\n",
    "print(df_1)\n",
    "df_mg = (df_1)['price'].median()\n",
    "print(df_mg)"
   ]
  },
  {
   "cell_type": "code",
   "execution_count": 23,
   "id": "0ddc24f8-feae-4d39-988c-b84c45a5298a",
   "metadata": {},
   "outputs": [
    {
     "name": "stdout",
     "output_type": "stream",
     "text": [
      "        price  area  bedrooms  bathrooms  stories mainroad guestroom basement  \\\n",
      "0    13300000  7420         4          2        3      yes        no       no   \n",
      "1    12250000  8960         4          4        4      yes        no       no   \n",
      "2    12250000  9960         3          2        2      yes        no      yes   \n",
      "3    12215000  7500         4          2        2      yes        no      yes   \n",
      "4    11410000  7420         4          1        2      yes       yes      yes   \n",
      "..        ...   ...       ...        ...      ...      ...       ...      ...   \n",
      "540   1820000  3000         2          1        1      yes        no      yes   \n",
      "541   1767150  2400         3          1        1       no        no       no   \n",
      "542   1750000  3620         2          1        1      yes        no       no   \n",
      "543   1750000  2910         3          1        1       no        no       no   \n",
      "544   1750000  3850         3          1        2      yes        no       no   \n",
      "\n",
      "    hotwaterheating airconditioning  parking prefarea furnishingstatus  \n",
      "0                no             yes        2      yes        furnished  \n",
      "1                no             yes        3       no        furnished  \n",
      "2                no              no        2      yes   semi-furnished  \n",
      "3                no             yes        3      yes        furnished  \n",
      "4                no             yes        2       no        furnished  \n",
      "..              ...             ...      ...      ...              ...  \n",
      "540              no              no        2       no      unfurnished  \n",
      "541              no              no        0       no   semi-furnished  \n",
      "542              no              no        0       no      unfurnished  \n",
      "543              no              no        0       no        furnished  \n",
      "544              no              no        0       no      unfurnished  \n",
      "\n",
      "[545 rows x 13 columns]\n"
     ]
    }
   ],
   "source": [
    "df_cpy = df.copy()\n",
    "print(df_cpy)"
   ]
  },
  {
   "cell_type": "code",
   "execution_count": 24,
   "id": "68f2f6d2-e29b-49a1-895d-39cae98abfe1",
   "metadata": {},
   "outputs": [
    {
     "data": {
      "text/html": [
       "<div>\n",
       "<style scoped>\n",
       "    .dataframe tbody tr th:only-of-type {\n",
       "        vertical-align: middle;\n",
       "    }\n",
       "\n",
       "    .dataframe tbody tr th {\n",
       "        vertical-align: top;\n",
       "    }\n",
       "\n",
       "    .dataframe thead th {\n",
       "        text-align: right;\n",
       "    }\n",
       "</style>\n",
       "<table border=\"1\" class=\"dataframe\">\n",
       "  <thead>\n",
       "    <tr style=\"text-align: right;\">\n",
       "      <th></th>\n",
       "      <th>price</th>\n",
       "      <th>area</th>\n",
       "      <th>bedrooms</th>\n",
       "      <th>bathrooms</th>\n",
       "      <th>stories</th>\n",
       "      <th>mainroad</th>\n",
       "      <th>guestroom</th>\n",
       "      <th>basement</th>\n",
       "      <th>hotwaterheating</th>\n",
       "      <th>airconditioning</th>\n",
       "      <th>parking</th>\n",
       "      <th>prefarea</th>\n",
       "      <th>furnishingstatus</th>\n",
       "    </tr>\n",
       "  </thead>\n",
       "  <tbody>\n",
       "    <tr>\n",
       "      <th>0</th>\n",
       "      <td>13300000</td>\n",
       "      <td>7420</td>\n",
       "      <td>4</td>\n",
       "      <td>2</td>\n",
       "      <td>3</td>\n",
       "      <td>yes</td>\n",
       "      <td>no</td>\n",
       "      <td>no</td>\n",
       "      <td>no</td>\n",
       "      <td>yes</td>\n",
       "      <td>2</td>\n",
       "      <td>yes</td>\n",
       "      <td>furnished</td>\n",
       "    </tr>\n",
       "    <tr>\n",
       "      <th>1</th>\n",
       "      <td>12250000</td>\n",
       "      <td>8960</td>\n",
       "      <td>4</td>\n",
       "      <td>4</td>\n",
       "      <td>4</td>\n",
       "      <td>yes</td>\n",
       "      <td>no</td>\n",
       "      <td>no</td>\n",
       "      <td>no</td>\n",
       "      <td>yes</td>\n",
       "      <td>3</td>\n",
       "      <td>no</td>\n",
       "      <td>furnished</td>\n",
       "    </tr>\n",
       "    <tr>\n",
       "      <th>2</th>\n",
       "      <td>12250000</td>\n",
       "      <td>9960</td>\n",
       "      <td>3</td>\n",
       "      <td>2</td>\n",
       "      <td>2</td>\n",
       "      <td>yes</td>\n",
       "      <td>no</td>\n",
       "      <td>yes</td>\n",
       "      <td>no</td>\n",
       "      <td>no</td>\n",
       "      <td>2</td>\n",
       "      <td>yes</td>\n",
       "      <td>semi-furnished</td>\n",
       "    </tr>\n",
       "    <tr>\n",
       "      <th>3</th>\n",
       "      <td>12215000</td>\n",
       "      <td>7500</td>\n",
       "      <td>4</td>\n",
       "      <td>2</td>\n",
       "      <td>2</td>\n",
       "      <td>yes</td>\n",
       "      <td>no</td>\n",
       "      <td>yes</td>\n",
       "      <td>no</td>\n",
       "      <td>yes</td>\n",
       "      <td>3</td>\n",
       "      <td>yes</td>\n",
       "      <td>furnished</td>\n",
       "    </tr>\n",
       "    <tr>\n",
       "      <th>5</th>\n",
       "      <td>10850000</td>\n",
       "      <td>7500</td>\n",
       "      <td>3</td>\n",
       "      <td>3</td>\n",
       "      <td>1</td>\n",
       "      <td>yes</td>\n",
       "      <td>no</td>\n",
       "      <td>yes</td>\n",
       "      <td>no</td>\n",
       "      <td>yes</td>\n",
       "      <td>2</td>\n",
       "      <td>yes</td>\n",
       "      <td>semi-furnished</td>\n",
       "    </tr>\n",
       "    <tr>\n",
       "      <th>...</th>\n",
       "      <td>...</td>\n",
       "      <td>...</td>\n",
       "      <td>...</td>\n",
       "      <td>...</td>\n",
       "      <td>...</td>\n",
       "      <td>...</td>\n",
       "      <td>...</td>\n",
       "      <td>...</td>\n",
       "      <td>...</td>\n",
       "      <td>...</td>\n",
       "      <td>...</td>\n",
       "      <td>...</td>\n",
       "      <td>...</td>\n",
       "    </tr>\n",
       "    <tr>\n",
       "      <th>540</th>\n",
       "      <td>1820000</td>\n",
       "      <td>3000</td>\n",
       "      <td>2</td>\n",
       "      <td>1</td>\n",
       "      <td>1</td>\n",
       "      <td>yes</td>\n",
       "      <td>no</td>\n",
       "      <td>yes</td>\n",
       "      <td>no</td>\n",
       "      <td>no</td>\n",
       "      <td>2</td>\n",
       "      <td>no</td>\n",
       "      <td>unfurnished</td>\n",
       "    </tr>\n",
       "    <tr>\n",
       "      <th>541</th>\n",
       "      <td>1767150</td>\n",
       "      <td>2400</td>\n",
       "      <td>3</td>\n",
       "      <td>1</td>\n",
       "      <td>1</td>\n",
       "      <td>no</td>\n",
       "      <td>no</td>\n",
       "      <td>no</td>\n",
       "      <td>no</td>\n",
       "      <td>no</td>\n",
       "      <td>0</td>\n",
       "      <td>no</td>\n",
       "      <td>semi-furnished</td>\n",
       "    </tr>\n",
       "    <tr>\n",
       "      <th>542</th>\n",
       "      <td>1750000</td>\n",
       "      <td>3620</td>\n",
       "      <td>2</td>\n",
       "      <td>1</td>\n",
       "      <td>1</td>\n",
       "      <td>yes</td>\n",
       "      <td>no</td>\n",
       "      <td>no</td>\n",
       "      <td>no</td>\n",
       "      <td>no</td>\n",
       "      <td>0</td>\n",
       "      <td>no</td>\n",
       "      <td>unfurnished</td>\n",
       "    </tr>\n",
       "    <tr>\n",
       "      <th>543</th>\n",
       "      <td>1750000</td>\n",
       "      <td>2910</td>\n",
       "      <td>3</td>\n",
       "      <td>1</td>\n",
       "      <td>1</td>\n",
       "      <td>no</td>\n",
       "      <td>no</td>\n",
       "      <td>no</td>\n",
       "      <td>no</td>\n",
       "      <td>no</td>\n",
       "      <td>0</td>\n",
       "      <td>no</td>\n",
       "      <td>furnished</td>\n",
       "    </tr>\n",
       "    <tr>\n",
       "      <th>544</th>\n",
       "      <td>1750000</td>\n",
       "      <td>3850</td>\n",
       "      <td>3</td>\n",
       "      <td>1</td>\n",
       "      <td>2</td>\n",
       "      <td>yes</td>\n",
       "      <td>no</td>\n",
       "      <td>no</td>\n",
       "      <td>no</td>\n",
       "      <td>no</td>\n",
       "      <td>0</td>\n",
       "      <td>no</td>\n",
       "      <td>unfurnished</td>\n",
       "    </tr>\n",
       "  </tbody>\n",
       "</table>\n",
       "<p>455 rows × 13 columns</p>\n",
       "</div>"
      ],
      "text/plain": [
       "        price  area  bedrooms  bathrooms  stories mainroad guestroom basement  \\\n",
       "0    13300000  7420         4          2        3      yes        no       no   \n",
       "1    12250000  8960         4          4        4      yes        no       no   \n",
       "2    12250000  9960         3          2        2      yes        no      yes   \n",
       "3    12215000  7500         4          2        2      yes        no      yes   \n",
       "5    10850000  7500         3          3        1      yes        no      yes   \n",
       "..        ...   ...       ...        ...      ...      ...       ...      ...   \n",
       "540   1820000  3000         2          1        1      yes        no      yes   \n",
       "541   1767150  2400         3          1        1       no        no       no   \n",
       "542   1750000  3620         2          1        1      yes        no       no   \n",
       "543   1750000  2910         3          1        1       no        no       no   \n",
       "544   1750000  3850         3          1        2      yes        no       no   \n",
       "\n",
       "    hotwaterheating airconditioning  parking prefarea furnishingstatus  \n",
       "0                no             yes        2      yes        furnished  \n",
       "1                no             yes        3       no        furnished  \n",
       "2                no              no        2      yes   semi-furnished  \n",
       "3                no             yes        3      yes        furnished  \n",
       "5                no             yes        2      yes   semi-furnished  \n",
       "..              ...             ...      ...      ...              ...  \n",
       "540              no              no        2       no      unfurnished  \n",
       "541              no              no        0       no   semi-furnished  \n",
       "542              no              no        0       no      unfurnished  \n",
       "543              no              no        0       no        furnished  \n",
       "544              no              no        0       no      unfurnished  \n",
       "\n",
       "[455 rows x 13 columns]"
      ]
     },
     "execution_count": 24,
     "metadata": {},
     "output_type": "execute_result"
    }
   ],
   "source": [
    "df_modified = df_cpy.drop(df_1.index)\n",
    "df_modified"
   ]
  },
  {
   "cell_type": "code",
   "execution_count": 25,
   "id": "2ba38b65-fa55-4bd1-82d1-c8c88de9301f",
   "metadata": {},
   "outputs": [
    {
     "data": {
      "text/plain": [
       "4165000.0"
      ]
     },
     "execution_count": 25,
     "metadata": {},
     "output_type": "execute_result"
    }
   ],
   "source": [
    "df_without_mg = (df_modified)['price'].median()\n",
    "df_without_mg"
   ]
  },
  {
   "cell_type": "code",
   "execution_count": 26,
   "id": "55119bc2-20dc-4307-b6dd-d9d507b5327c",
   "metadata": {},
   "outputs": [
    {
     "name": "stdout",
     "output_type": "stream",
     "text": [
      "Average price of homes with guestrooms AND main road location:  5600000.0\n",
      "Average price of remaining homes:  4165000.0\n"
     ]
    }
   ],
   "source": [
    "print('Average price of homes with guestrooms AND main road location: ',df_mg) \n",
    "print('Average price of remaining homes: ',df_without_mg)"
   ]
  },
  {
   "cell_type": "code",
   "execution_count": 27,
   "id": "0171a24c-d103-4f13-8b65-e4e5c8d3b6ea",
   "metadata": {},
   "outputs": [
    {
     "data": {
      "text/plain": [
       "airconditioning\n",
       "no     373\n",
       "yes    172\n",
       "Name: count, dtype: int64"
      ]
     },
     "execution_count": 27,
     "metadata": {},
     "output_type": "execute_result"
    }
   ],
   "source": [
    "df['airconditioning'].value_counts()"
   ]
  },
  {
   "cell_type": "code",
   "execution_count": 28,
   "id": "0331b3d0-fadf-43a9-8159-ce1059c9a434",
   "metadata": {},
   "outputs": [
    {
     "data": {
      "text/plain": [
       "airconditioning\n",
       "0    373\n",
       "1    172\n",
       "Name: count, dtype: int64"
      ]
     },
     "execution_count": 28,
     "metadata": {},
     "output_type": "execute_result"
    }
   ],
   "source": [
    "df['airconditioning'] = df['airconditioning'].apply(lambda x:0 if x=='no' else 1)\n",
    "df['airconditioning'].value_counts()"
   ]
  },
  {
   "cell_type": "code",
   "execution_count": 29,
   "id": "b1bc22c3-00dd-4b8e-8c6d-e5ba5944f3cd",
   "metadata": {},
   "outputs": [
    {
     "name": "stdout",
     "output_type": "stream",
     "text": [
      "        price  area  bedrooms  bathrooms  stories mainroad guestroom basement  \\\n",
      "0    13300000  7420         4          2        3      yes        no       no   \n",
      "1    12250000  8960         4          4        4      yes        no       no   \n",
      "2    12250000  9960         3          2        2      yes        no      yes   \n",
      "3    12215000  7500         4          2        2      yes        no      yes   \n",
      "4    11410000  7420         4          1        2      yes       yes      yes   \n",
      "..        ...   ...       ...        ...      ...      ...       ...      ...   \n",
      "540   1820000  3000         2          1        1      yes        no      yes   \n",
      "541   1767150  2400         3          1        1       no        no       no   \n",
      "542   1750000  3620         2          1        1      yes        no       no   \n",
      "543   1750000  2910         3          1        1       no        no       no   \n",
      "544   1750000  3850         3          1        2      yes        no       no   \n",
      "\n",
      "    hotwaterheating  airconditioning  parking prefarea furnishingstatus  \\\n",
      "0                no                1        2      yes        furnished   \n",
      "1                no                1        3       no        furnished   \n",
      "2                no                0        2      yes   semi-furnished   \n",
      "3                no                1        3      yes        furnished   \n",
      "4                no                1        2       no        furnished   \n",
      "..              ...              ...      ...      ...              ...   \n",
      "540              no                0        2       no      unfurnished   \n",
      "541              no                0        0       no   semi-furnished   \n",
      "542              no                0        0       no      unfurnished   \n",
      "543              no                0        0       no        furnished   \n",
      "544              no                0        0       no      unfurnished   \n",
      "\n",
      "     price_index  \n",
      "0              1  \n",
      "1              1  \n",
      "2              1  \n",
      "3              1  \n",
      "4              1  \n",
      "..           ...  \n",
      "540            0  \n",
      "541            0  \n",
      "542            0  \n",
      "543            0  \n",
      "544            0  \n",
      "\n",
      "[545 rows x 14 columns]\n"
     ]
    }
   ],
   "source": [
    "df_new_col = pd.DataFrame({'price_index':df['price'].apply(lambda x:1 if x>(df['price']).mean() else 0)})\n",
    "latest_df = pd.concat([df,df_new_col],axis=1)\n",
    "print(latest_df)"
   ]
  },
  {
   "cell_type": "code",
   "execution_count": 30,
   "id": "063d962f-9432-4446-80d0-56dce478430f",
   "metadata": {},
   "outputs": [],
   "source": [
    "latest_df.to_csv(\"Housing_extra_column.csv\")"
   ]
  },
  {
   "cell_type": "code",
   "execution_count": 31,
   "id": "b087c65f-c2a0-4115-bf57-0e2d7660f63b",
   "metadata": {},
   "outputs": [
    {
     "name": "stdout",
     "output_type": "stream",
     "text": [
      "        price   area  bedrooms  bathrooms  stories mainroad guestroom  \\\n",
      "7    10150000  16200         5          3        2      yes        no   \n",
      "125   5943000  15600         3          1        1      yes        no   \n",
      "10    9800000  13200         3          1        2      yes        no   \n",
      "66    6930000  13200         2          1        1      yes        no   \n",
      "403   3500000  12944         3          1        1      yes        no   \n",
      "..        ...    ...       ...        ...      ...      ...       ...   \n",
      "530   2240000   1950         3          1        1       no        no   \n",
      "271   4340000   1905         5          1        2       no        no   \n",
      "527   2275000   1836         2          1        1       no        no   \n",
      "537   1890000   1700         3          1        2      yes        no   \n",
      "449   3150000   1650         3          1        2       no        no   \n",
      "\n",
      "    basement hotwaterheating  airconditioning  parking prefarea  \\\n",
      "7         no              no                0        0       no   \n",
      "125       no              no                1        2       no   \n",
      "10       yes              no                1        2      yes   \n",
      "66       yes             yes                0        1       no   \n",
      "403       no              no                0        0       no   \n",
      "..       ...             ...              ...      ...      ...   \n",
      "530       no             yes                0        0       no   \n",
      "271      yes              no                0        0       no   \n",
      "527      yes              no                0        0       no   \n",
      "537       no              no                0        0       no   \n",
      "449      yes              no                0        0       no   \n",
      "\n",
      "    furnishingstatus  \n",
      "7        unfurnished  \n",
      "125   semi-furnished  \n",
      "10         furnished  \n",
      "66         furnished  \n",
      "403      unfurnished  \n",
      "..               ...  \n",
      "530      unfurnished  \n",
      "271   semi-furnished  \n",
      "527   semi-furnished  \n",
      "537      unfurnished  \n",
      "449      unfurnished  \n",
      "\n",
      "[545 rows x 13 columns]\n"
     ]
    }
   ],
   "source": [
    "# Sort the data by area, bathrooms and bedrooms column in descending order\n",
    "sort_df = df.sort_values(by=['area','bathrooms','bedrooms'],ascending=[False,False,False])\n",
    "print(sort_df)"
   ]
  }
 ],
 "metadata": {
  "kernelspec": {
   "display_name": "Python 3 (ipykernel)",
   "language": "python",
   "name": "python3"
  },
  "language_info": {
   "codemirror_mode": {
    "name": "ipython",
    "version": 3
   },
   "file_extension": ".py",
   "mimetype": "text/x-python",
   "name": "python",
   "nbconvert_exporter": "python",
   "pygments_lexer": "ipython3",
   "version": "3.11.7"
  }
 },
 "nbformat": 4,
 "nbformat_minor": 5
}
