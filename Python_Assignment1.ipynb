{
 "cells": [
  {
   "cell_type": "markdown",
   "id": "ec9963f1",
   "metadata": {},
   "source": [
    "### 1.Create two numbers. One float another integer. Add two numbers and print the result in           integer format."
   ]
  },
  {
   "cell_type": "code",
   "execution_count": 1,
   "id": "ad684120",
   "metadata": {},
   "outputs": [
    {
     "name": "stdout",
     "output_type": "stream",
     "text": [
      "4\n"
     ]
    }
   ],
   "source": [
    "floatNo=2.5\n",
    "intNo=2\n",
    "print(int(floatNo+intNo))"
   ]
  },
  {
   "cell_type": "markdown",
   "id": "7705353c",
   "metadata": {},
   "source": [
    "### 2. Create a list with numbers 1 to 10 and sort it in ascending and descending order."
   ]
  },
  {
   "cell_type": "code",
   "execution_count": 2,
   "id": "e794416a",
   "metadata": {},
   "outputs": [
    {
     "name": "stdout",
     "output_type": "stream",
     "text": [
      "Ascending order:  [1, 2, 3, 4, 5, 6, 7, 8, 9]\n",
      "Descending order:  [9, 8, 7, 6, 5, 4, 3, 2, 1]\n"
     ]
    }
   ],
   "source": [
    "numbers=[*range(1,10,1)]\n",
    "numbers.sort()\n",
    "print(\"Ascending order: \", numbers)\n",
    "numbers.sort(reverse=True)\n",
    "print(\"Descending order: \", numbers)"
   ]
  },
  {
   "cell_type": "markdown",
   "id": "be875a01",
   "metadata": {},
   "source": [
    "### 3.\tCreate a list with numbers 1 to 10 in it ([1,2,3….10]) Write a for loop on this list to sum up all numbers in the list except 5 and 7. Print the result."
   ]
  },
  {
   "cell_type": "code",
   "execution_count": 3,
   "id": "973e7f9b",
   "metadata": {},
   "outputs": [
    {
     "name": "stdout",
     "output_type": "stream",
     "text": [
      "[1, 2, 3, 4, 5, 6, 7, 8, 9, 10]\n",
      "sum : 43\n"
     ]
    }
   ],
   "source": [
    "nums=[*range(1,11,1)]\n",
    "print(nums)\n",
    "sum=0\n",
    "for i in nums:\n",
    "    if i!=5 and i!=7:\n",
    "        sum=sum+i\n",
    "print(\"sum :\",sum)"
   ]
  },
  {
   "cell_type": "markdown",
   "id": "a720413b",
   "metadata": {},
   "source": [
    "### 4. Write a while loop to create a list with numbers from 1 to 100. When inserting new number in the list, skip every number which is divisible by 3.  Print the result. Tip: To check whether number is divisible by 3 you can use % operator"
   ]
  },
  {
   "cell_type": "code",
   "execution_count": 4,
   "id": "40c5435c",
   "metadata": {},
   "outputs": [
    {
     "name": "stdout",
     "output_type": "stream",
     "text": [
      "[1, 2, 4, 5, 7, 8, 10, 11, 13, 14, 16, 17, 19, 20, 22, 23, 25, 26, 28, 29, 31, 32, 34, 35, 37, 38, 40, 41, 43, 44, 46, 47, 49, 50, 52, 53, 55, 56, 58, 59, 61, 62, 64, 65, 67, 68, 70, 71, 73, 74, 76, 77, 79, 80, 82, 83, 85, 86, 88, 89, 91, 92, 94, 95, 97, 98, 100]\n"
     ]
    }
   ],
   "source": [
    "i=1\n",
    "ls1=[]\n",
    "while i <= 100:\n",
    "    if(i%3!=0):\n",
    "        ls1.append(i)\n",
    "    i+=1\n",
    "print(ls1)"
   ]
  },
  {
   "cell_type": "markdown",
   "id": "5a17725a",
   "metadata": {},
   "source": [
    "### 5.Create a dictionary with 5 key pair values. Key would be a grocery item name and value will be its price (any value in the range of 100 to 1000). (take any grocery items) Write a for loop to iterate over a dictionary and print key-value pairs. While printing if the value is greater Rs. 500 then print a line – “this is a costly item.” While printing if the value is less than Rs. 100 then print a line – “this is affordable item.”\n"
   ]
  },
  {
   "cell_type": "code",
   "execution_count": 3,
   "id": "076f9781",
   "metadata": {},
   "outputs": [
    {
     "name": "stdout",
     "output_type": "stream",
     "text": [
      "sugar 100\n",
      "rice 520 this is a costly item.\n",
      "oil 500\n",
      "salt 50 this is an affordable item.\n",
      "kesar 900 this is a costly item.\n"
     ]
    }
   ],
   "source": [
    "grocery_dict={\n",
    "    \"sugar\": 100,\n",
    "    \"rice\" : 520,\n",
    "    \"oil\"  : 500,\n",
    "    \"salt\" : 50,\n",
    "    \"kesar\": 900\n",
    "}\n",
    "\n",
    "for i,j in grocery_dict.items():\n",
    "    if(j>500):\n",
    "        print(i,j,'this is a costly item.')\n",
    "    elif(j<100):\n",
    "        print(i,j,'this is an affordable item.')\n",
    "    else:\n",
    "        print(i,j)"
   ]
  },
  {
   "cell_type": "markdown",
   "id": "87dbec38",
   "metadata": {},
   "source": [
    "### 6. In the dictionary created in Task 3 delete the key value pairs where price is less than average price of all the items in the dictionary."
   ]
  },
  {
   "cell_type": "code",
   "execution_count": 6,
   "id": "3299e895",
   "metadata": {},
   "outputs": [
    {
     "name": "stdout",
     "output_type": "stream",
     "text": [
      "Average value: 414\n",
      "rice 520\n",
      "oil 500\n",
      "kesar 900\n"
     ]
    }
   ],
   "source": [
    "import numpy as np\n",
    "grocery_dict={\n",
    "    \"sugar\": 100,\n",
    "    \"rice\" : 520,\n",
    "    \"oil\"  : 500,\n",
    "    \"salt\" : 50,\n",
    "    \"kesar\": 900\n",
    "}\n",
    "avg=int(np.average(list(grocery_dict.values())))\n",
    "print(\"Average value:\",avg)\n",
    "for i,j in grocery_dict.items():\n",
    "    if(j>avg):\n",
    "        print(i,j)"
   ]
  },
  {
   "cell_type": "code",
   "execution_count": 7,
   "id": "567b656c-8cb4-4882-84a4-c448132ad9e0",
   "metadata": {},
   "outputs": [
    {
     "name": "stdout",
     "output_type": "stream",
     "text": [
      "Average value: 414\n",
      "{'rice': 520, 'oil': 500, 'kesar': 900}\n"
     ]
    }
   ],
   "source": [
    "# second approach\n",
    "grocery_dict={\n",
    "    \"sugar\": 100,\n",
    "    \"rice\" : 520,\n",
    "    \"oil\"  : 500,\n",
    "    \"salt\" : 50,\n",
    "    \"kesar\": 900\n",
    "}\n",
    "avg=int(np.average(list(grocery_dict.values())))\n",
    "print(\"Average value:\",avg)\n",
    "res = {k:v for k,v in grocery_dict.items() if v>avg}\n",
    "print(res)"
   ]
  },
  {
   "cell_type": "code",
   "execution_count": 8,
   "id": "4a66b77f-84a3-4fab-810e-f1382365a031",
   "metadata": {},
   "outputs": [
    {
     "name": "stdout",
     "output_type": "stream",
     "text": [
      "Average value: 414\n",
      "{'rice': 520, 'oil': 500, 'kesar': 900}\n"
     ]
    }
   ],
   "source": [
    "# third approach\n",
    "grocery_dict={\n",
    "    \"sugar\": 100,\n",
    "    \"rice\" : 520,\n",
    "    \"oil\"  : 500,\n",
    "    \"salt\" : 50,\n",
    "    \"kesar\": 900\n",
    "}\n",
    "avg=int(np.average(list(grocery_dict.values())))\n",
    "print(\"Average value:\",avg)\n",
    "for i in grocery_dict.copy():\n",
    "    if(grocery_dict[i]<avg):\n",
    "        del grocery_dict[i]\n",
    "print(grocery_dict)"
   ]
  },
  {
   "cell_type": "markdown",
   "id": "5cdfd006",
   "metadata": {},
   "source": [
    "### 7. Create a function which takes 3 numbers as inputs and returns the following three values. Addition of two numbers. Subtraction of two numbers. Multiplication of two numbers"
   ]
  },
  {
   "cell_type": "code",
   "execution_count": 9,
   "id": "e7a652ec",
   "metadata": {},
   "outputs": [
    {
     "name": "stdout",
     "output_type": "stream",
     "text": [
      "('Addition', 9, 'Subtraction', 1, 'Multiplication', 15)\n"
     ]
    }
   ],
   "source": [
    "def Operations(*num):\n",
    "    addition,subtraction,multiplication=0,num[0],1\n",
    "    for i in num[1:]:\n",
    "        subtraction-=i\n",
    "    for j in num:\n",
    "        addition=addition+j\n",
    "        multiplication=multiplication*j\n",
    "    return (\"Addition\",addition,\"Subtraction\",subtraction,\"Multiplication\",multiplication)\n",
    "\n",
    "print(Operations(5,3,1))"
   ]
  },
  {
   "cell_type": "markdown",
   "id": "1a21eaa1",
   "metadata": {},
   "source": [
    "### 8.\t“i live in india since my childhood”. Count number of i in this text"
   ]
  },
  {
   "cell_type": "code",
   "execution_count": 10,
   "id": "6823e4cf",
   "metadata": {},
   "outputs": [
    {
     "data": {
      "text/plain": [
       "7"
      ]
     },
     "execution_count": 10,
     "metadata": {},
     "output_type": "execute_result"
    }
   ],
   "source": [
    "str1='i live in india since my childhood'\n",
    "str1.count('i')"
   ]
  },
  {
   "cell_type": "markdown",
   "id": "a9a6e6e5",
   "metadata": {},
   "source": [
    "### 9.\tdata = [1,2,3,4,6,7,7,8,9,9]. Drop duplicate values from this list and print the remaining numbers."
   ]
  },
  {
   "cell_type": "code",
   "execution_count": 11,
   "id": "46883403",
   "metadata": {},
   "outputs": [
    {
     "name": "stdout",
     "output_type": "stream",
     "text": [
      "[1 2 3 4 6 7 8 9]\n"
     ]
    }
   ],
   "source": [
    "data = [1,2,3,4,6,7,7,8,9,9]\n",
    "print(np.unique(data))"
   ]
  },
  {
   "cell_type": "markdown",
   "id": "7fbf51ae",
   "metadata": {},
   "source": [
    "### 10.\tIf you are given two lists create a dictionary from it. keys_list = [1,2,3,4] values_list = [‘ind’, ‘aus’, ‘eng’ , ‘pak’]"
   ]
  },
  {
   "cell_type": "code",
   "execution_count": 12,
   "id": "41ce5361",
   "metadata": {},
   "outputs": [
    {
     "name": "stdout",
     "output_type": "stream",
     "text": [
      "[{1: 'ind', 2: 'aus', 3: 'eng', 4: 'pak'}]\n"
     ]
    }
   ],
   "source": [
    "keys_list = [1,2,3,4]\n",
    "values_list = ['ind', 'aus', 'eng' , 'pak']\n",
    "dict1=[dict(zip(keys_list,values_list))]\n",
    "print(dict1)"
   ]
  },
  {
   "cell_type": "markdown",
   "id": "f0845ed0",
   "metadata": {},
   "source": [
    "### 11.\tHow do you check if a variable is of a certain data type in Python?"
   ]
  },
  {
   "cell_type": "code",
   "execution_count": 13,
   "id": "fd5caa32",
   "metadata": {},
   "outputs": [
    {
     "data": {
      "text/plain": [
       "list"
      ]
     },
     "execution_count": 13,
     "metadata": {},
     "output_type": "execute_result"
    }
   ],
   "source": [
    "variable_name=[]\n",
    "type(variable_name)"
   ]
  },
  {
   "cell_type": "markdown",
   "id": "fa2b25e7",
   "metadata": {},
   "source": [
    "### 12.\tWrite a program that prints the first 10 natural numbers.\n"
   ]
  },
  {
   "cell_type": "code",
   "execution_count": 14,
   "id": "7ee95132",
   "metadata": {},
   "outputs": [
    {
     "name": "stdout",
     "output_type": "stream",
     "text": [
      "[1, 2, 3, 4, 5, 6, 7, 8, 9, 10]\n"
     ]
    }
   ],
   "source": [
    "print([*range(1, 11, 1)])"
   ]
  },
  {
   "cell_type": "code",
   "execution_count": 15,
   "id": "5200cabd-e82b-4519-bf2d-2636ff41e916",
   "metadata": {},
   "outputs": [
    {
     "name": "stdout",
     "output_type": "stream",
     "text": [
      "1\n",
      "2\n",
      "3\n",
      "4\n",
      "5\n",
      "6\n",
      "7\n",
      "8\n",
      "9\n",
      "10\n"
     ]
    }
   ],
   "source": [
    "for i in range(1,11):\n",
    "    print(i)"
   ]
  },
  {
   "cell_type": "markdown",
   "id": "b600cd8f",
   "metadata": {},
   "source": [
    "### 13.\tWrite a python code to find last 4 characters of a string : 'Machine Learning'"
   ]
  },
  {
   "cell_type": "code",
   "execution_count": 16,
   "id": "be277bb5",
   "metadata": {},
   "outputs": [
    {
     "name": "stdout",
     "output_type": "stream",
     "text": [
      "ning\n"
     ]
    }
   ],
   "source": [
    "str2='Machine Learning'\n",
    "print(str2[-4:])"
   ]
  },
  {
   "cell_type": "markdown",
   "id": "b55e7fbf",
   "metadata": {},
   "source": [
    "### 14.\tWrite a python code to remove blank space from string : 'P y t h o n'\n"
   ]
  },
  {
   "cell_type": "code",
   "execution_count": 17,
   "id": "244f61e5",
   "metadata": {},
   "outputs": [
    {
     "data": {
      "text/plain": [
       "'Python'"
      ]
     },
     "execution_count": 17,
     "metadata": {},
     "output_type": "execute_result"
    }
   ],
   "source": [
    "str3='P y t h o n'\n",
    "str3.replace(' ','')"
   ]
  },
  {
   "cell_type": "markdown",
   "id": "efd474ee",
   "metadata": {},
   "source": [
    "### 15.Write a python code to remove trailing space from string: ‘Machine Learning.     ’"
   ]
  },
  {
   "cell_type": "code",
   "execution_count": 18,
   "id": "9f81dcb1",
   "metadata": {},
   "outputs": [
    {
     "data": {
      "text/plain": [
       "'Machine Learning.'"
      ]
     },
     "execution_count": 18,
     "metadata": {},
     "output_type": "execute_result"
    }
   ],
   "source": [
    "str4='Machine Learning. '\n",
    "str4.rstrip()"
   ]
  },
  {
   "cell_type": "markdown",
   "id": "e2e04560",
   "metadata": {},
   "source": [
    "### 16.Write a python code to print the summation of all the numbers from 1 to 100"
   ]
  },
  {
   "cell_type": "code",
   "execution_count": 19,
   "id": "314747bd",
   "metadata": {},
   "outputs": [
    {
     "name": "stdout",
     "output_type": "stream",
     "text": [
      "5050\n"
     ]
    }
   ],
   "source": [
    "sum=0\n",
    "for i in range(1,101):\n",
    "    sum+=i\n",
    "print(sum)"
   ]
  },
  {
   "cell_type": "markdown",
   "id": "9f188bd6",
   "metadata": {},
   "source": [
    "### 17.Write a python code to find the second largest number in a list: [21,44,767,98,37,106,345,87]"
   ]
  },
  {
   "cell_type": "code",
   "execution_count": 20,
   "id": "3b0fbb50",
   "metadata": {},
   "outputs": [
    {
     "name": "stdout",
     "output_type": "stream",
     "text": [
      "345\n"
     ]
    }
   ],
   "source": [
    "list1=[21,44,767,98,37,106,345,87]\n",
    "list1.sort(reverse=True)\n",
    "print(list1[1])"
   ]
  },
  {
   "cell_type": "markdown",
   "id": "f60b93dd",
   "metadata": {},
   "source": [
    "### 18. Write a python code to check given character is digit or not : 265"
   ]
  },
  {
   "cell_type": "code",
   "execution_count": 21,
   "id": "2babe649",
   "metadata": {},
   "outputs": [
    {
     "name": "stdout",
     "output_type": "stream",
     "text": [
      "It is a digit\n"
     ]
    }
   ],
   "source": [
    "char1=265\n",
    "if(str(char1).isdigit()):\n",
    "    print('It is a digit')\n",
    "else:\n",
    "    print('It'+ \"'\" + 's not a digit')"
   ]
  },
  {
   "cell_type": "markdown",
   "id": "75f8df47",
   "metadata": {},
   "source": [
    "### 19.\tWrite a python code to Convert a string to lowercase : ‘MACHINE LEARNING’"
   ]
  },
  {
   "cell_type": "code",
   "execution_count": 22,
   "id": "b2cf92ef",
   "metadata": {},
   "outputs": [
    {
     "data": {
      "text/plain": [
       "'machine learning'"
      ]
     },
     "execution_count": 22,
     "metadata": {},
     "output_type": "execute_result"
    }
   ],
   "source": [
    "str5='MACHINE LEARNING'\n",
    "str5.lower()"
   ]
  },
  {
   "cell_type": "markdown",
   "id": "36ba06e1",
   "metadata": {},
   "source": [
    "### 20.Write a Python program to find the common elements between two lists."
   ]
  },
  {
   "cell_type": "code",
   "execution_count": 23,
   "id": "0e6ebc14",
   "metadata": {},
   "outputs": [
    {
     "name": "stdout",
     "output_type": "stream",
     "text": [
      "1\n",
      "2\n",
      "3\n",
      "5\n",
      "7\n"
     ]
    }
   ],
   "source": [
    "l1=[1,2,3,4,5,6,7,8,9]\n",
    "l2=[1,11,2,22,3,44,5,66,7,88]\n",
    "for i in l1:\n",
    "    for j in l2:\n",
    "        if(i==j):\n",
    "            print(i)"
   ]
  },
  {
   "cell_type": "code",
   "execution_count": 24,
   "id": "6fefdd54-5461-4bf3-a86d-52cc26b0efe0",
   "metadata": {},
   "outputs": [
    {
     "name": "stdout",
     "output_type": "stream",
     "text": [
      "{1, 2, 3, 5, 7}\n"
     ]
    }
   ],
   "source": [
    "print(set(l1) & set(l2))"
   ]
  },
  {
   "cell_type": "markdown",
   "id": "fac08d5e",
   "metadata": {},
   "source": [
    "### 21.Write a python function to calculate the factorial of a given integer 10"
   ]
  },
  {
   "cell_type": "code",
   "execution_count": 25,
   "id": "f4653ea6",
   "metadata": {},
   "outputs": [
    {
     "name": "stdout",
     "output_type": "stream",
     "text": [
      "3628800\n"
     ]
    }
   ],
   "source": [
    "def fact(a):\n",
    "    return 1 if (a==1 or a==0) else a * fact(a-1)\n",
    "\n",
    "print(fact(10))"
   ]
  },
  {
   "cell_type": "code",
   "execution_count": 26,
   "id": "052f0b96-7da5-4c66-bf96-c7c890bf8fea",
   "metadata": {},
   "outputs": [
    {
     "name": "stdout",
     "output_type": "stream",
     "text": [
      "3628800\n"
     ]
    }
   ],
   "source": [
    "import math\n",
    "print(math.factorial(10))"
   ]
  },
  {
   "cell_type": "markdown",
   "id": "a17d4b13",
   "metadata": {},
   "source": [
    "### 22.Write a python code to create separate lists of Even and Odd numbers from a list. [21,44,22,878,55,90,17,68,69,91]"
   ]
  },
  {
   "cell_type": "code",
   "execution_count": 27,
   "id": "b4379ee1",
   "metadata": {},
   "outputs": [
    {
     "name": "stdout",
     "output_type": "stream",
     "text": [
      "[44, 22, 878, 90, 68]\n",
      "[21, 55, 17, 69, 91]\n"
     ]
    }
   ],
   "source": [
    "list_all=[21,44,22,878,55,90,17,68,69,91]\n",
    "list_even=[]\n",
    "list_odd=[]\n",
    "for i in list_all:\n",
    "    if(i%2==0):\n",
    "        list_even.append(i)\n",
    "    else:\n",
    "        list_odd.append(i)\n",
    "print(list_even)\n",
    "print(list_odd)"
   ]
  },
  {
   "cell_type": "markdown",
   "id": "657a2ba2",
   "metadata": {},
   "source": [
    "### 23.Calculate the sum of all numbers in a list using a loop. [21,44,767,98,37]"
   ]
  },
  {
   "cell_type": "code",
   "execution_count": 28,
   "id": "236eea59",
   "metadata": {},
   "outputs": [
    {
     "name": "stdout",
     "output_type": "stream",
     "text": [
      "967\n"
     ]
    }
   ],
   "source": [
    "list6=[21,44,767,98,37]\n",
    "sum=0\n",
    "for i in list6:\n",
    "    sum+=i\n",
    "print(sum)"
   ]
  },
  {
   "cell_type": "markdown",
   "id": "79311f33",
   "metadata": {},
   "source": [
    "### 24.Write a python code to find square and cube of every number in a given list of integers using Lambda. list1 = [12,3,41,7,9,111]"
   ]
  },
  {
   "cell_type": "code",
   "execution_count": 29,
   "id": "9396ef1b",
   "metadata": {},
   "outputs": [
    {
     "name": "stdout",
     "output_type": "stream",
     "text": [
      "[144, 9, 1681, 49, 81, 12321]\n",
      "[1728, 27, 68921, 343, 729, 1367631]\n"
     ]
    }
   ],
   "source": [
    "list1 = [12,3,41,7,9,111]\n",
    "square = lambda x:[i**2 for i in x]\n",
    "cube = lambda x:[i**3 for i in x]\n",
    "print(square(list1))\n",
    "print(cube(list1))"
   ]
  },
  {
   "cell_type": "markdown",
   "id": "3c571d54",
   "metadata": {},
   "source": [
    "### 25.Write a python code to count the number of occurrences of a character ‘e’ in a string. ‘Machine Learning and Deep Learning’"
   ]
  },
  {
   "cell_type": "code",
   "execution_count": 30,
   "id": "de406673",
   "metadata": {},
   "outputs": [
    {
     "data": {
      "text/plain": [
       "5"
      ]
     },
     "execution_count": 30,
     "metadata": {},
     "output_type": "execute_result"
    }
   ],
   "source": [
    "str6='Machine Learning and Deep Learning'\n",
    "str6.count('e')"
   ]
  },
  {
   "cell_type": "markdown",
   "id": "99db2515",
   "metadata": {},
   "source": [
    "### 26. calculate the absolute value of a number -564"
   ]
  },
  {
   "cell_type": "code",
   "execution_count": 31,
   "id": "3817ca9a",
   "metadata": {},
   "outputs": [
    {
     "data": {
      "text/plain": [
       "564"
      ]
     },
     "execution_count": 31,
     "metadata": {},
     "output_type": "execute_result"
    }
   ],
   "source": [
    "abs(-564)"
   ]
  },
  {
   "cell_type": "markdown",
   "id": "65e57a62",
   "metadata": {},
   "source": [
    "### 27.\tWrite a python code to check if a string contains only alphabetic characters. String = ‘HelloPython’\n"
   ]
  },
  {
   "cell_type": "code",
   "execution_count": 32,
   "id": "664f09d8",
   "metadata": {},
   "outputs": [
    {
     "data": {
      "text/plain": [
       "True"
      ]
     },
     "execution_count": 32,
     "metadata": {},
     "output_type": "execute_result"
    }
   ],
   "source": [
    "String_new = 'HelloPython'\n",
    "String_new.isalpha()"
   ]
  },
  {
   "cell_type": "markdown",
   "id": "a6b81a58",
   "metadata": {},
   "source": [
    "### 28.\tCreate two separate dictionaries and Merge them."
   ]
  },
  {
   "cell_type": "code",
   "execution_count": 33,
   "id": "9fe66009",
   "metadata": {},
   "outputs": [
    {
     "name": "stdout",
     "output_type": "stream",
     "text": [
      "{'name': 'a', 'surname': 'b', 'middlename': 'c'}\n",
      "{'middlename': 'c'}\n"
     ]
    }
   ],
   "source": [
    "dict1={\"name\":\"a\",\"surname\":\"b\"}\n",
    "dict2={\"middlename\":\"c\"}\n",
    "dict1.update(dict2)\n",
    "print(dict1)\n",
    "print(dict2)"
   ]
  },
  {
   "cell_type": "markdown",
   "id": "1efbbe90",
   "metadata": {},
   "source": [
    "### 29.Write a python code to filter odd numbers from the list using filter () function. List1 = [12,3,41,7,9,111]"
   ]
  },
  {
   "cell_type": "code",
   "execution_count": 34,
   "id": "b09646cf",
   "metadata": {},
   "outputs": [
    {
     "name": "stdout",
     "output_type": "stream",
     "text": [
      "[3, 41, 7, 9, 111]\n"
     ]
    }
   ],
   "source": [
    "List1 = [12,3,41,7,9,111]\n",
    "odd_num=filter(lambda x: x%2!=0, List1)\n",
    "print(list(odd_num))"
   ]
  },
  {
   "cell_type": "markdown",
   "id": "6c03feed",
   "metadata": {},
   "source": [
    "### 30.Create a function that checks if a given number is even or odd."
   ]
  },
  {
   "cell_type": "code",
   "execution_count": 35,
   "id": "c130ee9a",
   "metadata": {},
   "outputs": [
    {
     "name": "stdout",
     "output_type": "stream",
     "text": [
      "4 is even\n"
     ]
    }
   ],
   "source": [
    "def even_odd(x):\n",
    "    res = lambda x:f\"{x} is even\" if x%2==0 else \"{x} is odd\"\n",
    "    print(res(x))\n",
    "even_odd(4)"
   ]
  },
  {
   "cell_type": "markdown",
   "id": "57e873f7",
   "metadata": {},
   "source": [
    "### 31.\tCreate a function to find the sum of all even numbers in a list."
   ]
  },
  {
   "cell_type": "code",
   "execution_count": 36,
   "id": "f62249c8",
   "metadata": {},
   "outputs": [
    {
     "name": "stdout",
     "output_type": "stream",
     "text": [
      "20\n"
     ]
    }
   ],
   "source": [
    "li_1 = [1,2,3,4,5,6,7,8,9]\n",
    "def sum_even(li):\n",
    "    sum=0\n",
    "    for i in li:\n",
    "        if(i%2==0):\n",
    "            sum+=i\n",
    "        else:\n",
    "            pass\n",
    "    return sum\n",
    "print(sum_even(li_1))"
   ]
  },
  {
   "cell_type": "markdown",
   "id": "47fea0e7",
   "metadata": {},
   "source": [
    "### 32.Write a Python program to find the maximum and minimum values in a list. list1 = [ 21,44,767,98,37]"
   ]
  },
  {
   "cell_type": "code",
   "execution_count": 37,
   "id": "348f0991",
   "metadata": {},
   "outputs": [
    {
     "name": "stdout",
     "output_type": "stream",
     "text": [
      "Min value:  21 \n",
      "Max value:  767\n"
     ]
    }
   ],
   "source": [
    "list1 = [ 21,44,767,98,37]\n",
    "print(\"Min value: \",min(list1),\"\\n\"\"Max value: \",max(list1))"
   ]
  },
  {
   "cell_type": "markdown",
   "id": "b727d367",
   "metadata": {},
   "source": [
    "### 33.\tWrite a function to remove duplicate elements from a list."
   ]
  },
  {
   "cell_type": "code",
   "execution_count": 38,
   "id": "0989e52c",
   "metadata": {},
   "outputs": [
    {
     "name": "stdout",
     "output_type": "stream",
     "text": [
      "[1, 2, 3, 4, 5, 6]\n"
     ]
    }
   ],
   "source": [
    "li=[1,1,2,3,4,5,5,6]\n",
    "def rem_dup(li):\n",
    "    li1=[]   \n",
    "    for i in li:  \n",
    "        if i not in li1:\n",
    "            li1.append(i)\n",
    "    return str(li1)\n",
    "print(rem_dup(li))"
   ]
  },
  {
   "cell_type": "markdown",
   "id": "8d08d5bd",
   "metadata": {},
   "source": [
    "### 34.\tCreate a Python dictionary with keys as cars and values as their respective prices.\n",
    "### car_models = [\"Toyota Camry\", \"Honda Civic\", \"Ford Mustang\", \"Chevrolet Silverado\", \"Nissan Altima\"]\n",
    "### car_prices = [2500000, 2200000, 4000000, 3500000, 2300000]\n"
   ]
  },
  {
   "cell_type": "code",
   "execution_count": 39,
   "id": "16d776be",
   "metadata": {},
   "outputs": [
    {
     "data": {
      "text/plain": [
       "{'Toyota Camry': 2500000,\n",
       " 'Honda Civic': 2200000,\n",
       " 'Ford Mustang': 4000000,\n",
       " 'Chevrolet Silverado': 3500000,\n",
       " 'Nissan Altima': 2300000}"
      ]
     },
     "execution_count": 39,
     "metadata": {},
     "output_type": "execute_result"
    }
   ],
   "source": [
    "car_models = [\"Toyota Camry\", \"Honda Civic\", \"Ford Mustang\", \"Chevrolet Silverado\", \"Nissan Altima\"]\n",
    "car_prices = [2500000, 2200000, 4000000, 3500000, 2300000]\n",
    "dict3=dict(zip(car_models,car_prices))\n",
    "dict3"
   ]
  },
  {
   "cell_type": "markdown",
   "id": "313b5397",
   "metadata": {},
   "source": [
    "### 35.\tCreate a Python function to reverse a string."
   ]
  },
  {
   "cell_type": "code",
   "execution_count": 40,
   "id": "4f704dd6",
   "metadata": {},
   "outputs": [
    {
     "data": {
      "text/plain": [
       "'yamnas'"
      ]
     },
     "execution_count": 40,
     "metadata": {},
     "output_type": "execute_result"
    }
   ],
   "source": [
    "def rev_str(s1):\n",
    "    s=''\n",
    "    for i in s1:\n",
    "        s=i+s\n",
    "    return s\n",
    "rev_str('sanmay')  "
   ]
  },
  {
   "cell_type": "code",
   "execution_count": 41,
   "id": "476368b3-748f-4f45-8b5c-c406d18d40d2",
   "metadata": {},
   "outputs": [
    {
     "data": {
      "text/plain": [
       "'yamnas'"
      ]
     },
     "execution_count": 41,
     "metadata": {},
     "output_type": "execute_result"
    }
   ],
   "source": [
    "def rev_str1(s2):\n",
    "    return s2[::-1]\n",
    "rev_str1('sanmay')"
   ]
  },
  {
   "cell_type": "markdown",
   "id": "4dc413a3",
   "metadata": {},
   "source": [
    "### 36.\tCalculate the mean of a list of numbers. [ 21,44,767,98,37]"
   ]
  },
  {
   "cell_type": "code",
   "execution_count": 42,
   "id": "dd622822",
   "metadata": {},
   "outputs": [
    {
     "data": {
      "text/plain": [
       "193.4"
      ]
     },
     "execution_count": 42,
     "metadata": {},
     "output_type": "execute_result"
    }
   ],
   "source": [
    "np.mean([ 21,44,767,98,37])"
   ]
  },
  {
   "cell_type": "markdown",
   "id": "7fe6735c",
   "metadata": {},
   "source": [
    "### 37.\tWrite a python code to check if a number is positive, negative, or zero."
   ]
  },
  {
   "cell_type": "code",
   "execution_count": 43,
   "id": "0c8a9cbc",
   "metadata": {},
   "outputs": [
    {
     "name": "stdout",
     "output_type": "stream",
     "text": [
      "33 is positive\n",
      "-4 is negative\n",
      "0 is zero\n"
     ]
    }
   ],
   "source": [
    "check1 = lambda x: f\"{x} is positive\" if x>0 else ( f\"{x} is negative\" if x<0 else f\"{x} is zero\")\n",
    "print(check1(33))\n",
    "print(check1(-4))\n",
    "print(check1(0))"
   ]
  },
  {
   "cell_type": "markdown",
   "id": "d5f71c91",
   "metadata": {},
   "source": [
    "### 38.\tFind the length of the longest word in a string: ‘Data Science and Machine Learning’"
   ]
  },
  {
   "cell_type": "code",
   "execution_count": 20,
   "id": "35f75762",
   "metadata": {},
   "outputs": [
    {
     "name": "stdout",
     "output_type": "stream",
     "text": [
      "Longest word : Learning\n",
      "Length of longest word : 8\n"
     ]
    }
   ],
   "source": [
    "str8='Data Science and Machine Learning'\n",
    "def maximum(s):\n",
    "    s=s.split()\n",
    "    print(\"Longest word :\",max(s,key=len))\n",
    "    print(\"Length of longest word :\",len(max(s,key=len)))\n",
    "maximum(str8)"
   ]
  }
 ],
 "metadata": {
  "kernelspec": {
   "display_name": "Python 3 (ipykernel)",
   "language": "python",
   "name": "python3"
  },
  "language_info": {
   "codemirror_mode": {
    "name": "ipython",
    "version": 3
   },
   "file_extension": ".py",
   "mimetype": "text/x-python",
   "name": "python",
   "nbconvert_exporter": "python",
   "pygments_lexer": "ipython3",
   "version": "3.11.7"
  }
 },
 "nbformat": 4,
 "nbformat_minor": 5
}
